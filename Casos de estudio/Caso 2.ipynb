{
 "cells": [
  {
   "cell_type": "markdown",
   "id": "013abaa5",
   "metadata": {},
   "source": [
    "# Segundo análisis de caso – Fundamentos de Python\n",
    "\n",
    "# Estudiante: Stephanny Garita Vega\n",
    "\n",
    "# Fecha de entrega: 09 de octubre 2025\n",
    "\n",
    "# Curso: Análisis de datos\n"
   ]
  },
  {
   "cell_type": "markdown",
   "id": "625d6d66",
   "metadata": {},
   "source": [
    "## **Introducción:**\n"
   ]
  },
  {
   "cell_type": "markdown",
   "id": "8d2be86a",
   "metadata": {},
   "source": [
    "Se realizan cuatro ejercicios propuestos, los cuales son:\n",
    "\n",
    "1. El área de un triángulo.\n",
    "\n",
    "2. Conversión de una cantidad de dólares a colones.\n",
    "\n",
    "3. Conversión de grados Celcius a Farenheit.\n",
    "\n",
    "4. Calcular cuántos segundos tiene un lustro.\n",
    "\n"
   ]
  },
  {
   "cell_type": "markdown",
   "id": "12139e7d",
   "metadata": {},
   "source": [
    "## **Resolución de ejercicios**"
   ]
  },
  {
   "cell_type": "markdown",
   "id": "711d77a4",
   "metadata": {},
   "source": [
    "# Ejercicio #1\n",
    "\n",
    "### Calcular el área de un triángulo\n",
    "\n",
    "## Entrada: \n",
    "\n",
    "medida de la base del triángulo\n",
    "\n",
    "medida de la altura del triángulo\n",
    "\n",
    "## Proceso:\n",
    "\n",
    "área = (base * altura) / 2\n",
    "\n",
    "## Salida:\n",
    "\n",
    "resultado del área"
   ]
  },
  {
   "cell_type": "code",
   "execution_count": 3,
   "id": "97a4ad39",
   "metadata": {},
   "outputs": [
    {
     "name": "stdout",
     "output_type": "stream",
     "text": [
      "El área del triángulo es: 66.0 unidades\n"
     ]
    }
   ],
   "source": [
    "#Entrada de datos:\n",
    "\n",
    "base = float(input('Ingrese la base del triángulo: '))\n",
    "altura = float(input('Ingrese la altura del triángulo: '))\n",
    "\n",
    "#Proceso:\n",
    "\n",
    "area = (base * altura) / 2\n",
    "\n",
    "#Salida de datos:\n",
    "\n",
    "print(f'El área del triángulo es: {area} unidades')\n"
   ]
  },
  {
   "cell_type": "markdown",
   "id": "a88e924f",
   "metadata": {},
   "source": [
    "# Ejercicio #2\n",
    "\n",
    "### Convierta una cantidad en dólares a colones\n",
    "\n",
    "## Entrada: \n",
    "\n",
    "cantidad en dólares\n",
    "\n",
    "tipo de cambio\n",
    "\n",
    "## Proceso:\n",
    "\n",
    "resultado = cantidad de dólares * tipo de cambio\n",
    "\n",
    "## Salida:\n",
    "\n",
    "resultado de la multiplicación"
   ]
  },
  {
   "cell_type": "code",
   "execution_count": 5,
   "id": "47a6bd67",
   "metadata": {},
   "outputs": [
    {
     "name": "stdout",
     "output_type": "stream",
     "text": [
      "La cantidad en colones es: 279103.5 colones\n"
     ]
    }
   ],
   "source": [
    "#Entrada de datos:\n",
    "\n",
    "cantidad_dolares = float(input('Ingrese la cantidad en dólares: '))\n",
    "tipo_cambio = float(input('Ingrese el tipo de cambio (colones por dólar): '))   \n",
    "\n",
    "#Proceso:\n",
    "\n",
    "resultado = cantidad_dolares * tipo_cambio\n",
    "\n",
    "#Salida de datos:\n",
    "\n",
    "print(f'La cantidad en colones es: {resultado} colones')\n",
    "\n",
    "\n",
    "\n"
   ]
  },
  {
   "cell_type": "markdown",
   "id": "33797302",
   "metadata": {},
   "source": [
    "# Ejercicio #3\n",
    "\n",
    "### Convierta una cantidad de grados Celcius a Farenheit\n",
    "\n",
    "## Entrada: \n",
    "\n",
    "cantidad de grados celcius\n",
    "\n",
    "## Proceso:\n",
    "\n",
    "grados Farenheit = (grados celcius * 9/5) + 32\n",
    "\n",
    "## Salida:\n",
    "\n",
    "resultado de la conversión de grados Celsius a Farenheit"
   ]
  },
  {
   "cell_type": "code",
   "execution_count": 7,
   "id": "daa9f007",
   "metadata": {},
   "outputs": [
    {
     "name": "stdout",
     "output_type": "stream",
     "text": [
      "La cantidad en grados Farenheit es: 95.0 grados\n"
     ]
    }
   ],
   "source": [
    "#Entrada de datos:\n",
    "\n",
    "cantidad_celcius = float(input('Ingrese la cantidad en grados Celcius: '))\n",
    "\n",
    "#Proceso:\n",
    "\n",
    "grados_farenheit = (cantidad_celcius * 9/5 + 32)\n",
    "\n",
    "#Salida de datos:\n",
    "\n",
    "print(f'La cantidad en grados Farenheit es: {grados_farenheit} grados')\n"
   ]
  },
  {
   "cell_type": "markdown",
   "id": "05c0c760",
   "metadata": {},
   "source": [
    "# Ejercicio #4\n",
    "\n",
    "### Calcule cuántos segundos tiene un lustro\n",
    "\n",
    "## Entrada: \n",
    "\n",
    "años en un lustro = 5\n",
    "\n",
    "dias en un año = 365\n",
    "\n",
    "horas en un día = 24\n",
    "\n",
    "minutos en una hora = 60\n",
    "\n",
    "segundos en un minuto = 60\n",
    "\n",
    "\n",
    "## Proceso:\n",
    "\n",
    "segundos en un lustro = (años en un lustro * días en un año * horas en un día * minutos en una hora * segundos en un minuto)\n",
    "\n",
    "## Salida:\n",
    "\n",
    "resultado de segundos en un lustro"
   ]
  },
  {
   "cell_type": "code",
   "execution_count": 9,
   "id": "93ed0b74",
   "metadata": {},
   "outputs": [
    {
     "name": "stdout",
     "output_type": "stream",
     "text": [
      "La cantidad de segundos en un lustro es: 157680000 segundos\n"
     ]
    }
   ],
   "source": [
    "#Entrada de datos:\n",
    "\n",
    "años_en_un_lustro = 5\n",
    "dias_en_un_año = 365\n",
    "horas_en_un_dia = 24\n",
    "minutos_en_una_hora = 60\n",
    "segundos_en_un_minuto = 60\n",
    "\n",
    "#Proceso:\n",
    "\n",
    "segundos_en_un_lustro = (años_en_un_lustro * dias_en_un_año * horas_en_un_dia * minutos_en_una_hora * segundos_en_un_minuto)        \n",
    "\n",
    "#Salida de datos:\n",
    "\n",
    "print(f'La cantidad de segundos en un lustro es: {segundos_en_un_lustro} segundos')\n",
    "\n"
   ]
  },
  {
   "cell_type": "markdown",
   "id": "db24aa2f",
   "metadata": {},
   "source": [
    "## **Conclusión**\n",
    "\n",
    "Ante esta resolución de ejercicios se ha notado la necesidad de conocer los términos al crear código y fórmulas para poder indicarlas en las entradas de los datos, así como en el proceso.\n",
    "\n",
    "Ha sido muy enriquecedor utilizar markdown para escribir con distintos estilos.\n",
    "\n",
    "Finalmente, trabajar con un notebook es muy útil para crear texto y código a la vez.\n"
   ]
  }
 ],
 "metadata": {
  "kernelspec": {
   "display_name": "Python 3",
   "language": "python",
   "name": "python3"
  },
  "language_info": {
   "name": "python",
   "version": "3.13.7"
  }
 },
 "nbformat": 4,
 "nbformat_minor": 5
}
